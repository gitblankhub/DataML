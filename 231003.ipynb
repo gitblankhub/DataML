{
  "nbformat": 4,
  "nbformat_minor": 0,
  "metadata": {
    "colab": {
      "provenance": [],
      "gpuType": "T4",
      "authorship_tag": "ABX9TyMYzOu3CyTVqOAcgwdvktI4",
      "include_colab_link": true
    },
    "kernelspec": {
      "name": "python3",
      "display_name": "Python 3"
    },
    "language_info": {
      "name": "python"
    },
    "accelerator": "GPU"
  },
  "cells": [
    {
      "cell_type": "markdown",
      "metadata": {
        "id": "view-in-github",
        "colab_type": "text"
      },
      "source": [
        "<a href=\"https://colab.research.google.com/github/gitblankhub/DataML/blob/main/231003.ipynb\" target=\"_parent\"><img src=\"https://colab.research.google.com/assets/colab-badge.svg\" alt=\"Open In Colab\"/></a>"
      ]
    },
    {
      "cell_type": "code",
      "execution_count": null,
      "metadata": {
        "id": "VCB_0HzT7Cv6"
      },
      "outputs": [],
      "source": [
        "import torch\n",
        "import torchvision\n",
        "import torchvision.transforms as transforms\n",
        "from PIL import Image\n",
        "import numpy as np\n",
        "import matplotlib.pyplot as plt"
      ]
    },
    {
      "cell_type": "markdown",
      "metadata": {
        "id": "DcmPegNji2Vs"
      },
      "source": [
        "# Mission 1"
      ]
    },
    {
      "cell_type": "markdown",
      "metadata": {
        "id": "lXaI94XtgdAv"
      },
      "source": [
        "## 구글 드라이브 마운트\n"
      ]
    },
    {
      "cell_type": "code",
      "execution_count": null,
      "metadata": {
        "colab": {
          "base_uri": "https://localhost:8080/"
        },
        "id": "oZL130fMgdAw",
        "outputId": "4cfa3e32-796c-4520-a82a-c02d696d192d"
      },
      "outputs": [
        {
          "output_type": "stream",
          "name": "stdout",
          "text": [
            "Mounted at /content/drive\n"
          ]
        }
      ],
      "source": [
        "from google.colab import drive\n",
        "drive.mount('/content/drive')"
      ]
    },
    {
      "cell_type": "code",
      "execution_count": null,
      "metadata": {
        "colab": {
          "base_uri": "https://localhost:8080/"
        },
        "id": "Z4F0-U5lgdAw",
        "outputId": "1446e1da-8a44-493f-b40b-ede6dc7beac1"
      },
      "outputs": [
        {
          "output_type": "stream",
          "name": "stdout",
          "text": [
            "/content/drive/MyDrive/Colab Notebooks/DataCreatorCamp\n"
          ]
        }
      ],
      "source": [
        "%cd /content/drive/MyDrive/Colab Notebooks/DataCreatorCamp"
      ]
    },
    {
      "cell_type": "code",
      "execution_count": null,
      "metadata": {
        "colab": {
          "base_uri": "https://localhost:8080/"
        },
        "id": "1WBBfcRigdAw",
        "outputId": "41af0c2b-b251-4318-819c-1f1518f6c2b2"
      },
      "outputs": [
        {
          "output_type": "stream",
          "name": "stdout",
          "text": [
            " CIFAR10_Augmentation.ipynb                   kfood_health_train.zip\n",
            " CIFAR10_Classification_ver0.ipynb            kfood_health_val.zip\n",
            " CIFAR10_Classification_ver1_ResNet.ipynb     Untitled1.ipynb\n",
            " CIFAR10_Classification_ver2_Resnet18.ipynb   validate_dist.ipynb\n",
            " \u001b[0m\u001b[01;34mfood_val\u001b[0m/                                   '딥러닝 모델 구현 실습.ipynb'\n"
          ]
        }
      ],
      "source": [
        "ls # 현재 파일 종류"
      ]
    },
    {
      "cell_type": "code",
      "source": [
        "import torch\n",
        "import numpy as np\n",
        "\n",
        "device = torch.device('cuda:0' if torch.cuda.is_available() else 'cpu')\n",
        "\n",
        "print(device)"
      ],
      "metadata": {
        "colab": {
          "base_uri": "https://localhost:8080/"
        },
        "id": "RZxX-MTx892A",
        "outputId": "991803b4-5eb0-4d89-f3b6-6709808d3245"
      },
      "execution_count": null,
      "outputs": [
        {
          "output_type": "stream",
          "name": "stdout",
          "text": [
            "cpu\n"
          ]
        }
      ]
    },
    {
      "cell_type": "markdown",
      "source": [
        "## dataset load"
      ],
      "metadata": {
        "id": "-haJPNtD95_i"
      }
    },
    {
      "cell_type": "code",
      "execution_count": null,
      "metadata": {
        "id": "Nq2c8k5NuwOe"
      },
      "outputs": [],
      "source": [
        "#from google.colab import files\n",
        "#files.upload()"
      ]
    },
    {
      "cell_type": "code",
      "source": [
        "!mkdir food_val"
      ],
      "metadata": {
        "id": "FwOM1i9G7gu1",
        "colab": {
          "base_uri": "https://localhost:8080/"
        },
        "outputId": "547c93e1-54af-427c-b9af-cb45fafdeda5"
      },
      "execution_count": null,
      "outputs": [
        {
          "output_type": "stream",
          "name": "stdout",
          "text": [
            "mkdir: cannot create directory ‘food_val’: File exists\n"
          ]
        }
      ]
    },
    {
      "cell_type": "code",
      "source": [
        "!unzip '/content/drive/MyDrive/Colab Notebooks/DataCreatorCamp/kfood_health_train.zip' -d ./food_val"
      ],
      "metadata": {
        "id": "1y2yEd5w9MrJ",
        "colab": {
          "base_uri": "https://localhost:8080/"
        },
        "outputId": "6c498f5b-2939-4fd7-d15a-99139c98cfce"
      },
      "execution_count": null,
      "outputs": [
        {
          "output_type": "stream",
          "name": "stdout",
          "text": [
            "Archive:  /content/drive/MyDrive/Colab Notebooks/DataCreatorCamp/kfood_health_train.zip\n",
            "replace ./food_val/가리비/A270332XX_00871.jpg? [y]es, [n]o, [A]ll, [N]one, [r]ename: "
          ]
        }
      ]
    },
    {
      "cell_type": "code",
      "execution_count": null,
      "metadata": {
        "id": "uHITDd1hRobu",
        "colab": {
          "base_uri": "https://localhost:8080/"
        },
        "outputId": "fa5a8143-aec0-4c78-d54a-115345c0224b"
      },
      "outputs": [
        {
          "output_type": "stream",
          "name": "stdout",
          "text": [
            "순대\n"
          ]
        }
      ],
      "source": [
        "from PIL import Image\n",
        "from glob import glob\n",
        "import numpy as np\n",
        "import os\n",
        "\n",
        "label_dict = {\n",
        "    '가리비':0,\n",
        "    '갈비찜':1,\n",
        "    '고등어':2,\n",
        "    '김치국':3,\n",
        "    '낚지볶음':4,\n",
        "    '돼지갈비찜':5,\n",
        "    '된장찌개':6,\n",
        "    '떡국':7,\n",
        "    '모듬초밥':8,\n",
        "    '배추김치':9,\n",
        "    '부대찌개':10,\n",
        "    '순대':11,\n",
        "    '오리로스구이':12\n",
        "}\n",
        "\n",
        "# /content/data/cloudy -> basename : cloudy\n",
        "# /content/food_val/가리비\n",
        "label_list=[]\n",
        "img_list=[]\n",
        "for label_path in glob('./food_val/*'): # 모든 파일 가져오기\n",
        "  print(os.path.basename(label_path))\n",
        "  for img_path in glob(label_path+ '/*') : # path에 있는 이미지 열기\n",
        "    image = np.array(Image.open(img_path).convert('RGB').resize((224,224))) # image를 숫자형태로\n",
        "    img_list.append(image)\n",
        "    label_list.append(label_dict[os.path.basename(label_path)]) # 맞는 label 설정\n",
        "\n",
        "label_list = np.array(label_list)\n",
        "img_list = np.array(img_list)"
      ]
    },
    {
      "cell_type": "code",
      "execution_count": null,
      "metadata": {
        "id": "wOjnSujQSdBY"
      },
      "outputs": [],
      "source": [
        "img_list.shape, label_list.shape # 14115개"
      ]
    },
    {
      "cell_type": "code",
      "execution_count": null,
      "metadata": {
        "id": "c3FhGlcBS_GZ"
      },
      "outputs": [],
      "source": [
        "np.bincount(label_list)"
      ]
    },
    {
      "cell_type": "code",
      "execution_count": null,
      "metadata": {
        "id": "8scbxHOpTDHK"
      },
      "outputs": [],
      "source": [
        "# train test 분리\n",
        "from sklearn.model_selection import train_test_split\n",
        "X_train, X_test, y_train, y_test = train_test_split(img_list, label_list,\n",
        "                                                    test_size = 0.1,\n",
        "                                                    random_state = 1)"
      ]
    },
    {
      "cell_type": "code",
      "execution_count": null,
      "metadata": {
        "id": "Xhn0ViQBTI-R"
      },
      "outputs": [],
      "source": [
        "X_train.shape, y_train.shape, X_test.shape, y_test.shape"
      ]
    },
    {
      "cell_type": "code",
      "source": [],
      "metadata": {
        "id": "KGdjKl4-OFdc"
      },
      "execution_count": null,
      "outputs": []
    },
    {
      "cell_type": "code",
      "source": [
        "set(label_list)"
      ],
      "metadata": {
        "id": "dAJ1rVMFOFVh"
      },
      "execution_count": null,
      "outputs": []
    },
    {
      "cell_type": "code",
      "source": [
        "label=0\n",
        "for i in range(0,13,1):\n",
        "  label = label+np.bincount(label_list)[i]\n",
        "  original_img = Image.fromarray(img_list[label])\n",
        "  plt.imshow(original_img)\n",
        "  plt.show()"
      ],
      "metadata": {
        "id": "3U5B1uVFOFJY"
      },
      "execution_count": null,
      "outputs": []
    },
    {
      "cell_type": "code",
      "execution_count": null,
      "metadata": {
        "id": "l_aXsrPzm3m7"
      },
      "outputs": [],
      "source": [
        "def display_images(): # 시각화\n",
        "  fig, subplots = plt.subplots(1,5, figsize=(13,6))\n",
        "  for i in range(5): # 5개 sample\n",
        "    axi1 = subplots.flat[i]\n",
        "    original_img = Image.fromarray(img_list[i])\n",
        "    axi1.imshow(original_img)\n",
        "    axi1.set_title('original_img')"
      ]
    },
    {
      "cell_type": "code",
      "source": [
        "display_images()"
      ],
      "metadata": {
        "id": "PrBFOVKeNiMz"
      },
      "execution_count": null,
      "outputs": []
    },
    {
      "cell_type": "code",
      "source": [],
      "metadata": {
        "id": "991OhTyENkit"
      },
      "execution_count": null,
      "outputs": []
    }
  ]
}